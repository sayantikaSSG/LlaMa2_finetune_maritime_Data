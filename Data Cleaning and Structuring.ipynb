{
 "cells": [
  {
   "cell_type": "code",
   "execution_count": 1,
   "id": "cb636bb5",
   "metadata": {},
   "outputs": [
    {
     "name": "stdout",
     "output_type": "stream",
     "text": [
      "🧹 Cleaning 33 files...\n",
      "✅ Cleaned: 000_EMSA Catalogue 2025 v26.06.pdf.txt\n",
      "✅ Cleaned: 001_EMSA CAAR2024.pdf.txt\n",
      "✅ Cleaned: 002_EMSA_FACTS_FIGURES_2024.pdf.txt\n",
      "✅ Cleaned: 003_Seafarers Statistics in the EU 2023 data report.pdf.txt\n",
      "✅ Cleaned: 004_AFVs Guidance 1.2 2025.pdf.txt\n",
      "✅ Cleaned: 005_ADER 2024.pdf.txt\n",
      "✅ Cleaned: 006_emsa ipa-enp newsletter issue 2.pdf.txt\n",
      "✅ Cleaned: 007_EMTER_F&F_2025_EN.pdf.txt\n",
      "✅ Cleaned: 008_EMTER_F&F_2025_BG.pdf.txt\n",
      "✅ Cleaned: 009_EMTER_F&F_2025_CS.pdf.txt\n",
      "✅ Cleaned: 010_EMTER_F&F_2025_DA.pdf.txt\n",
      "✅ Cleaned: 011_EMTER_F&F_2025_DE.pdf.txt\n",
      "✅ Cleaned: 012_EMTER_F&F_2025_EL.pdf.txt\n",
      "✅ Cleaned: 013_EMTER_F&F_2025_ES.pdf.txt\n",
      "✅ Cleaned: 014_EMTER_F&F_2025_ET.pdf.txt\n",
      "✅ Cleaned: 015_EMTER_F&F_2025_FI.pdf.txt\n",
      "✅ Cleaned: 016_EMTER_F&F_2025_FR.pdf.txt\n",
      "✅ Cleaned: 017_EMTER_F&F_2025_GA.pdf.txt\n",
      "✅ Cleaned: 018_EMTER_F&F_2025_HR.pdf.txt\n",
      "✅ Cleaned: 019_EMTER_F&F_2025_HU.pdf.txt\n",
      "✅ Cleaned: 020_EMTER_F&F_2025_IT.pdf.txt\n",
      "✅ Cleaned: 021_EMTER_F&F_2025_LT.pdf.txt\n",
      "✅ Cleaned: 022_EMTER_F&F_2025_LV.pdf.txt\n",
      "✅ Cleaned: 023_EMTER_F&F_2025_MT.pdf.txt\n",
      "✅ Cleaned: 024_EMTER_F&F_2025_NL.pdf.txt\n",
      "✅ Cleaned: 025_EMTER_F&F_2025_PL.pdf.txt\n",
      "✅ Cleaned: 026_EMTER_F&F_2025_PT.pdf.txt\n",
      "✅ Cleaned: 027_EMTER_F&F_2025_RO.pdf.txt\n",
      "✅ Cleaned: 028_EMTER_F&F_2025_SK.pdf.txt\n",
      "✅ Cleaned: 029_EMTER_F&F_2025_SL.pdf.txt\n",
      "✅ Cleaned: 030_EMTER_F&F_2025_SV.pdf.txt\n",
      "✅ Cleaned: 031_European Maritime Transport Environmental Report 2025.pdf.txt\n",
      "✅ Cleaned: 032_EMSA Outlook 2025_v3.0.pdf.txt\n"
     ]
    }
   ],
   "source": [
    "import os\n",
    "import re\n",
    "\n",
    "INPUT_DIR = \"data/emsa_texts\"\n",
    "OUTPUT_DIR = \"data/emsa_cleaned\"\n",
    "os.makedirs(OUTPUT_DIR, exist_ok=True)\n",
    "\n",
    "def clean_text(text):\n",
    "    # Basic cleaning: remove multiple line breaks, weird whitespace, control characters\n",
    "    text = re.sub(r\"\\s+\", \" \", text)\n",
    "    text = re.sub(r\"[\\x00-\\x1f\\x7f-\\x9f]\", \"\", text)\n",
    "    return text.strip()\n",
    "\n",
    "def process_file(path):\n",
    "    with open(path, \"r\", encoding=\"utf-8\") as f:\n",
    "        raw_text = f.read()\n",
    "    return clean_text(raw_text)\n",
    "\n",
    "def process_all_files():\n",
    "    files = [f for f in os.listdir(INPUT_DIR) if f.endswith(\".txt\")]\n",
    "    print(f\"🧹 Cleaning {len(files)} files...\")\n",
    "\n",
    "    for f in files:\n",
    "        raw_path = os.path.join(INPUT_DIR, f)\n",
    "        clean_path = os.path.join(OUTPUT_DIR, f.replace(\".txt\", \"_cleaned.txt\"))\n",
    "\n",
    "        cleaned = process_file(raw_path)\n",
    "\n",
    "        with open(clean_path, \"w\", encoding=\"utf-8\") as out:\n",
    "            out.write(cleaned)\n",
    "\n",
    "        print(f\"✅ Cleaned: {f}\")\n",
    "\n",
    "process_all_files()\n"
   ]
  }
 ],
 "metadata": {
  "kernelspec": {
   "display_name": "py310",
   "language": "python",
   "name": "python3"
  },
  "language_info": {
   "codemirror_mode": {
    "name": "ipython",
    "version": 3
   },
   "file_extension": ".py",
   "mimetype": "text/x-python",
   "name": "python",
   "nbconvert_exporter": "python",
   "pygments_lexer": "ipython3",
   "version": "3.10.18"
  }
 },
 "nbformat": 4,
 "nbformat_minor": 5
}
