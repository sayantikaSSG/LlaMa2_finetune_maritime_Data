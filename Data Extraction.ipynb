{
 "cells": [
  {
   "cell_type": "code",
   "execution_count": 4,
   "id": "04a69f49",
   "metadata": {},
   "outputs": [
    {
     "name": "stdout",
     "output_type": "stream",
     "text": [
      "Looking in indexes: https://artifactory.michelin.com/api/pypi/pypi/simple\n",
      "Collecting beautifulsoup4\n",
      "  Downloading https://artifactory.michelin.com/api/pypi/pypi/packages/packages/50/cd/30110dc0ffcf3b131156077b90e9f60ed75711223f306da4db08eff8403b/beautifulsoup4-4.13.4-py3-none-any.whl (187 kB)\n",
      "Collecting soupsieve>1.2 (from beautifulsoup4)\n",
      "  Downloading https://artifactory.michelin.com/api/pypi/pypi/packages/packages/e7/9c/0e6afc12c269578be5c0c1c9f4b49a8d32770a080260c333ac04cc1c832d/soupsieve-2.7-py3-none-any.whl (36 kB)\n",
      "Requirement already satisfied: typing-extensions>=4.0.0 in c:\\busdata\\envs\\py310\\lib\\site-packages (from beautifulsoup4) (4.14.0)\n",
      "Installing collected packages: soupsieve, beautifulsoup4\n",
      "\n",
      "   ---------------------------------------- 0/2 [soupsieve]\n",
      "   -------------------- ------------------- 1/2 [beautifulsoup4]\n",
      "   -------------------- ------------------- 1/2 [beautifulsoup4]\n",
      "   -------------------- ------------------- 1/2 [beautifulsoup4]\n",
      "   -------------------- ------------------- 1/2 [beautifulsoup4]\n",
      "   -------------------- ------------------- 1/2 [beautifulsoup4]\n",
      "   -------------------- ------------------- 1/2 [beautifulsoup4]\n",
      "   -------------------- ------------------- 1/2 [beautifulsoup4]\n",
      "   ---------------------------------------- 2/2 [beautifulsoup4]\n",
      "\n",
      "Successfully installed beautifulsoup4-4.13.4 soupsieve-2.7\n"
     ]
    }
   ],
   "source": [
    "!pip install beautifulsoup4"
   ]
  },
  {
   "cell_type": "code",
   "execution_count": null,
   "id": "6db33446",
   "metadata": {},
   "outputs": [
    {
     "name": "stderr",
     "output_type": "stream",
     "text": [
      "Some characters could not be decoded, and were replaced with REPLACEMENT CHARACTER.\n"
     ]
    },
    {
     "name": "stdout",
     "output_type": "stream",
     "text": [
      "Found 0 PDFs.\n"
     ]
    }
   ],
   "source": [
    "# import os\n",
    "# import requests\n",
    "# from bs4 import BeautifulSoup\n",
    "# from urllib.parse import urljoin\n",
    "# import urllib3\n",
    "\n",
    "# # 🔕 Kill SSL warnings (since we’re ignoring SSL certs)\n",
    "# urllib3.disable_warnings(urllib3.exceptions.InsecureRequestWarning)\n",
    "\n",
    "# BASE_URL = \"https://www.emsa.europa.eu/publications/download/8244/5502/23.html\"\n",
    "# DOWNLOAD_DIR = \"data/emsa_reports\"\n",
    "# os.makedirs(DOWNLOAD_DIR, exist_ok=True)\n",
    "\n",
    "# def get_pdf_links():\n",
    "#     response = requests.get(BASE_URL, verify=False)  # 👈 Don't forget this\n",
    "#     soup = BeautifulSoup(response.content, \"html.parser\")\n",
    "#     pdf_links = []\n",
    "\n",
    "#     for a_tag in soup.find_all(\"a\", href=True):\n",
    "#         href = a_tag[\"href\"]\n",
    "#         if href.endswith(\".pdf\"):\n",
    "#             full_url = urljoin(BASE_URL, href)\n",
    "#             pdf_links.append(full_url)\n",
    "\n",
    "#     return pdf_links\n",
    "\n",
    "# def download_pdfs(pdf_links):\n",
    "#     for link in pdf_links:\n",
    "#         filename = os.path.join(DOWNLOAD_DIR, link.split(\"/\")[-1])\n",
    "#         if not os.path.exists(filename):\n",
    "#             print(f\"Downloading: {filename}\")\n",
    "#             response = requests.get(link, verify=False)  # 👈 And this\n",
    "#             with open(filename, \"wb\") as f:\n",
    "#                 f.write(response.content)\n",
    "\n",
    "# # Fire it up\n",
    "# pdf_links = get_pdf_links()\n",
    "# print(f\"Found {len(pdf_links)} PDFs.\")\n",
    "# download_pdfs(pdf_links)\n"
   ]
  },
  {
   "cell_type": "code",
   "execution_count": null,
   "id": "e13fb4bc",
   "metadata": {},
   "outputs": [],
   "source": [
    "# import requests\n",
    "# from bs4 import BeautifulSoup\n",
    "\n",
    "# url = \"https://www.emsa.europa.eu/publications/documents.html\"\n",
    "# response = requests.get(url, verify=False)\n",
    "# soup = BeautifulSoup(response.content, \"html.parser\")\n",
    "\n",
    "# # See if there's anything juicy in anchor tags\n",
    "# for a_tag in soup.find_all(\"a\", href=True):\n",
    "#     href = a_tag[\"href\"]\n",
    "#     if \"pdf\" in href.lower():\n",
    "#         print(href)\n"
   ]
  },
  {
   "cell_type": "code",
   "execution_count": null,
   "id": "8af4e39e",
   "metadata": {},
   "outputs": [
    {
     "data": {
      "text/plain": [
       "'/disclaimer.html'"
      ]
     },
     "execution_count": 11,
     "metadata": {},
     "output_type": "execute_result"
    }
   ],
   "source": [
    "# href"
   ]
  },
  {
   "cell_type": "code",
   "execution_count": null,
   "id": "001c6a47",
   "metadata": {},
   "outputs": [
    {
     "name": "stdout",
     "output_type": "stream",
     "text": [
      "🔗 Found 8 article links\n"
     ]
    }
   ],
   "source": [
    "from bs4 import BeautifulSoup\n",
    "import requests\n",
    "from urllib.parse import urljoin\n",
    "\n",
    "BASE_URL = \"https://www.emsa.europa.eu/publications.html\"\n",
    "HEADERS = {\"User-Agent\": \"Mozilla/5.0\"}\n",
    "VERIFY_SSL = False\n",
    "def get_category_links():\n",
    "    print(\"🔍 Fetching publication categories...\")\n",
    "    res = requests.get(BASE_URL, headers=HEADERS, verify=VERIFY_SSL)\n",
    "    soup = BeautifulSoup(res.content, \"html.parser\")\n",
    "    links = set()\n",
    "    for a in soup.find_all(\"a\", href=True):\n",
    "        href = a[\"href\"]\n",
    "        if href.startswith(\"/\"):\n",
    "            href = urljoin(BASE_URL, href)\n",
    "        if \"publications\" in href and href != BASE_URL and href not in links:\n",
    "            links.add(href)\n",
    "    return list(links)\n",
    "def get_article_links():\n",
    "    res = requests.get(BASE_URL, headers=HEADERS, verify=VERIFY_SSL)\n",
    "    soup = BeautifulSoup(res.content, \"html.parser\")\n",
    "\n",
    "    article_links = []\n",
    "    for a in soup.find_all(\"a\", href=True):\n",
    "        href = a[\"href\"]\n",
    "        if \"/publications/item/\" in href:\n",
    "            full_url = urljoin(BASE_URL, href)\n",
    "            article_links.append(full_url)\n",
    "\n",
    "    return list(set(article_links))  # Deduplicate\n",
    "\n",
    "article_links = get_article_links()\n",
    "print(f\"🔗 Found {len(article_links)} article links\")\n"
   ]
  },
  {
   "cell_type": "code",
   "execution_count": 15,
   "id": "2180f1e9",
   "metadata": {},
   "outputs": [
    {
     "name": "stdout",
     "output_type": "stream",
     "text": [
      "📄 Found 11 disguised PDF download links\n"
     ]
    }
   ],
   "source": [
    "def get_pdf_download_links(article_links):\n",
    "    download_links = []\n",
    "    for link in article_links:\n",
    "        try:\n",
    "            res = requests.get(link, headers=HEADERS, verify=VERIFY_SSL)\n",
    "            soup = BeautifulSoup(res.content, \"html.parser\")\n",
    "            for a in soup.find_all(\"a\", href=True):\n",
    "                href = a[\"href\"]\n",
    "                if \"/publications/download/\" in href and href.endswith(\".html\"):\n",
    "                    full_url = urljoin(link, href)\n",
    "                    download_links.append(full_url)\n",
    "        except Exception as e:\n",
    "            print(f\"❌ Failed on {link}: {e}\")\n",
    "    return download_links\n",
    "\n",
    "pdf_links = get_pdf_download_links(article_links)\n",
    "print(f\"📄 Found {len(pdf_links)} disguised PDF download links\")\n"
   ]
  },
  {
   "cell_type": "code",
   "execution_count": 17,
   "id": "0493ad9e",
   "metadata": {},
   "outputs": [
    {
     "data": {
      "text/plain": [
       "['https://www.emsa.europa.eu/publications/download/8176/5463/23.html',\n",
       " 'https://www.emsa.europa.eu/publications/download/8132/5402/23.html',\n",
       " 'https://www.emsa.europa.eu/publications/download/8244/5502/23.html',\n",
       " 'https://www.emsa.europa.eu/publications/download/8189/4729/23.html',\n",
       " 'https://www.emsa.europa.eu/publications/download/7727/5119/23.html',\n",
       " 'https://www.emsa.europa.eu/publications/download/8027/5119/23.html',\n",
       " 'https://www.emsa.europa.eu/publications/download/8028/5119/23.html',\n",
       " 'https://www.emsa.europa.eu/publications/download/8029/5119/23.html',\n",
       " 'https://www.emsa.europa.eu/publications/download/8137/5418/23.html',\n",
       " 'https://www.emsa.europa.eu/publications/download/8213/5484/23.html',\n",
       " 'https://www.emsa.europa.eu/publications/download/8197/5472/23.html']"
      ]
     },
     "execution_count": 17,
     "metadata": {},
     "output_type": "execute_result"
    }
   ],
   "source": [
    "pdf_links"
   ]
  },
  {
   "cell_type": "code",
   "execution_count": 18,
   "id": "55aeb75a",
   "metadata": {},
   "outputs": [
    {
     "name": "stdout",
     "output_type": "stream",
     "text": [
      "⬇️ Downloading 8176 ...\n",
      "✅ Saved: 8176\n",
      "⬇️ Downloading 8132 ...\n",
      "✅ Saved: 8132\n",
      "⬇️ Downloading 8244 ...\n",
      "✅ Saved: 8244\n",
      "⬇️ Downloading 8189 ...\n",
      "✅ Saved: 8189\n",
      "⬇️ Downloading 7727 ...\n",
      "✅ Saved: 7727\n",
      "⬇️ Downloading 8027 ...\n",
      "✅ Saved: 8027\n",
      "⬇️ Downloading 8028 ...\n",
      "✅ Saved: 8028\n",
      "⬇️ Downloading 8029 ...\n",
      "✅ Saved: 8029\n",
      "⬇️ Downloading 8137 ...\n",
      "✅ Saved: 8137\n",
      "⬇️ Downloading 8213 ...\n",
      "✅ Saved: 8213\n",
      "⬇️ Downloading 8197 ...\n",
      "✅ Saved: 8197\n"
     ]
    }
   ],
   "source": [
    "import os\n",
    "\n",
    "DOWNLOAD_DIR = \"data/emsa_reports\"\n",
    "os.makedirs(DOWNLOAD_DIR, exist_ok=True)\n",
    "\n",
    "def download_pdfs(pdf_links):\n",
    "    for url in pdf_links:\n",
    "        filename = url.split(\"/\")[-3].replace(\".html\", \".pdf\")\n",
    "        filepath = os.path.join(DOWNLOAD_DIR, filename)\n",
    "        if os.path.exists(filepath):\n",
    "            print(f\"✅ Already downloaded: {filename}\")\n",
    "            continue\n",
    "\n",
    "        print(f\"⬇️ Downloading {filename} ...\")\n",
    "        try:\n",
    "            r = requests.get(url, headers=HEADERS, stream=True, verify=VERIFY_SSL)\n",
    "            if \"application/pdf\" in r.headers.get(\"Content-Type\", \"\"):\n",
    "                with open(filepath, \"wb\") as f:\n",
    "                    for chunk in r.iter_content(chunk_size=8192):\n",
    "                        f.write(chunk)\n",
    "                print(f\"✅ Saved: {filename}\")\n",
    "            else:\n",
    "                print(f\"⚠️ Not a PDF: {url}\")\n",
    "        except Exception as e:\n",
    "            print(f\"❌ Error downloading {url}: {e}\")\n",
    "\n",
    "download_pdfs(pdf_links)\n"
   ]
  },
  {
   "cell_type": "code",
   "execution_count": 20,
   "id": "ff14bf66",
   "metadata": {},
   "outputs": [
    {
     "name": "stdout",
     "output_type": "stream",
     "text": [
      "🔍 Scraping EMSA for embedded PDF links...\n",
      "\n",
      "🔗 Found 36 potential PDF pages.\n",
      "\n"
     ]
    },
    {
     "name": "stderr",
     "output_type": "stream",
     "text": [
      "Some characters could not be decoded, and were replaced with REPLACEMENT CHARACTER.\n"
     ]
    },
    {
     "name": "stdout",
     "output_type": "stream",
     "text": [
      "🚫 No PDF found at: https://www.emsa.europa.eu/publications/download/8244/5502/23.html\n"
     ]
    },
    {
     "name": "stderr",
     "output_type": "stream",
     "text": [
      "Some characters could not be decoded, and were replaced with REPLACEMENT CHARACTER.\n"
     ]
    },
    {
     "name": "stdout",
     "output_type": "stream",
     "text": [
      "🚫 No PDF found at: https://www.emsa.europa.eu/publications/download/8213/5484/23.html\n"
     ]
    },
    {
     "name": "stderr",
     "output_type": "stream",
     "text": [
      "Some characters could not be decoded, and were replaced with REPLACEMENT CHARACTER.\n"
     ]
    },
    {
     "name": "stdout",
     "output_type": "stream",
     "text": [
      "🚫 No PDF found at: https://www.emsa.europa.eu/publications/download/8197/5472/23.html\n"
     ]
    },
    {
     "name": "stderr",
     "output_type": "stream",
     "text": [
      "Some characters could not be decoded, and were replaced with REPLACEMENT CHARACTER.\n"
     ]
    },
    {
     "name": "stdout",
     "output_type": "stream",
     "text": [
      "🚫 No PDF found at: https://www.emsa.europa.eu/publications/download/8189/4729/23.html\n"
     ]
    },
    {
     "name": "stderr",
     "output_type": "stream",
     "text": [
      "Some characters could not be decoded, and were replaced with REPLACEMENT CHARACTER.\n"
     ]
    },
    {
     "name": "stdout",
     "output_type": "stream",
     "text": [
      "🚫 No PDF found at: https://www.emsa.europa.eu/publications/download/8176/5463/23.html\n"
     ]
    },
    {
     "name": "stderr",
     "output_type": "stream",
     "text": [
      "Some characters could not be decoded, and were replaced with REPLACEMENT CHARACTER.\n"
     ]
    },
    {
     "name": "stdout",
     "output_type": "stream",
     "text": [
      "🚫 No PDF found at: https://www.emsa.europa.eu/publications/download/8137/5418/23.html\n",
      "🚫 No PDF found at: https://www.emsa.europa.eu/publications/download/8081/5407/23.html\n"
     ]
    },
    {
     "name": "stderr",
     "output_type": "stream",
     "text": [
      "Some characters could not be decoded, and were replaced with REPLACEMENT CHARACTER.\n"
     ]
    },
    {
     "name": "stdout",
     "output_type": "stream",
     "text": [
      "🚫 No PDF found at: https://www.emsa.europa.eu/publications/download/8076/5407/23.html\n"
     ]
    },
    {
     "name": "stderr",
     "output_type": "stream",
     "text": [
      "Some characters could not be decoded, and were replaced with REPLACEMENT CHARACTER.\n"
     ]
    },
    {
     "name": "stdout",
     "output_type": "stream",
     "text": [
      "🚫 No PDF found at: https://www.emsa.europa.eu/publications/download/8077/5407/23.html\n"
     ]
    },
    {
     "name": "stderr",
     "output_type": "stream",
     "text": [
      "Some characters could not be decoded, and were replaced with REPLACEMENT CHARACTER.\n"
     ]
    },
    {
     "name": "stdout",
     "output_type": "stream",
     "text": [
      "🚫 No PDF found at: https://www.emsa.europa.eu/publications/download/8078/5407/23.html\n"
     ]
    },
    {
     "name": "stderr",
     "output_type": "stream",
     "text": [
      "Some characters could not be decoded, and were replaced with REPLACEMENT CHARACTER.\n"
     ]
    },
    {
     "name": "stdout",
     "output_type": "stream",
     "text": [
      "🚫 No PDF found at: https://www.emsa.europa.eu/publications/download/8079/5407/23.html\n"
     ]
    },
    {
     "name": "stderr",
     "output_type": "stream",
     "text": [
      "Some characters could not be decoded, and were replaced with REPLACEMENT CHARACTER.\n"
     ]
    },
    {
     "name": "stdout",
     "output_type": "stream",
     "text": [
      "🚫 No PDF found at: https://www.emsa.europa.eu/publications/download/8080/5407/23.html\n"
     ]
    },
    {
     "name": "stderr",
     "output_type": "stream",
     "text": [
      "Some characters could not be decoded, and were replaced with REPLACEMENT CHARACTER.\n"
     ]
    },
    {
     "name": "stdout",
     "output_type": "stream",
     "text": [
      "🚫 No PDF found at: https://www.emsa.europa.eu/publications/download/8082/5407/23.html\n"
     ]
    },
    {
     "name": "stderr",
     "output_type": "stream",
     "text": [
      "Some characters could not be decoded, and were replaced with REPLACEMENT CHARACTER.\n"
     ]
    },
    {
     "name": "stdout",
     "output_type": "stream",
     "text": [
      "🚫 No PDF found at: https://www.emsa.europa.eu/publications/download/8083/5407/23.html\n"
     ]
    },
    {
     "name": "stderr",
     "output_type": "stream",
     "text": [
      "Some characters could not be decoded, and were replaced with REPLACEMENT CHARACTER.\n"
     ]
    },
    {
     "name": "stdout",
     "output_type": "stream",
     "text": [
      "🚫 No PDF found at: https://www.emsa.europa.eu/publications/download/8084/5407/23.html\n"
     ]
    },
    {
     "name": "stderr",
     "output_type": "stream",
     "text": [
      "Some characters could not be decoded, and were replaced with REPLACEMENT CHARACTER.\n"
     ]
    },
    {
     "name": "stdout",
     "output_type": "stream",
     "text": [
      "🚫 No PDF found at: https://www.emsa.europa.eu/publications/download/8085/5407/23.html\n",
      "🚫 No PDF found at: https://www.emsa.europa.eu/publications/download/8086/5407/23.html\n"
     ]
    },
    {
     "name": "stderr",
     "output_type": "stream",
     "text": [
      "Some characters could not be decoded, and were replaced with REPLACEMENT CHARACTER.\n"
     ]
    },
    {
     "name": "stdout",
     "output_type": "stream",
     "text": [
      "🚫 No PDF found at: https://www.emsa.europa.eu/publications/download/8087/5407/23.html\n"
     ]
    },
    {
     "name": "stderr",
     "output_type": "stream",
     "text": [
      "Some characters could not be decoded, and were replaced with REPLACEMENT CHARACTER.\n"
     ]
    },
    {
     "name": "stdout",
     "output_type": "stream",
     "text": [
      "🚫 No PDF found at: https://www.emsa.europa.eu/publications/download/8088/5407/23.html\n"
     ]
    },
    {
     "name": "stderr",
     "output_type": "stream",
     "text": [
      "Some characters could not be decoded, and were replaced with REPLACEMENT CHARACTER.\n"
     ]
    },
    {
     "name": "stdout",
     "output_type": "stream",
     "text": [
      "🚫 No PDF found at: https://www.emsa.europa.eu/publications/download/8089/5407/23.html\n"
     ]
    },
    {
     "name": "stderr",
     "output_type": "stream",
     "text": [
      "Some characters could not be decoded, and were replaced with REPLACEMENT CHARACTER.\n"
     ]
    },
    {
     "name": "stdout",
     "output_type": "stream",
     "text": [
      "🚫 No PDF found at: https://www.emsa.europa.eu/publications/download/8090/5407/23.html\n"
     ]
    },
    {
     "name": "stderr",
     "output_type": "stream",
     "text": [
      "Some characters could not be decoded, and were replaced with REPLACEMENT CHARACTER.\n"
     ]
    },
    {
     "name": "stdout",
     "output_type": "stream",
     "text": [
      "🚫 No PDF found at: https://www.emsa.europa.eu/publications/download/8091/5407/23.html\n"
     ]
    },
    {
     "name": "stderr",
     "output_type": "stream",
     "text": [
      "Some characters could not be decoded, and were replaced with REPLACEMENT CHARACTER.\n"
     ]
    },
    {
     "name": "stdout",
     "output_type": "stream",
     "text": [
      "🚫 No PDF found at: https://www.emsa.europa.eu/publications/download/8092/5407/23.html\n"
     ]
    },
    {
     "name": "stderr",
     "output_type": "stream",
     "text": [
      "Some characters could not be decoded, and were replaced with REPLACEMENT CHARACTER.\n"
     ]
    },
    {
     "name": "stdout",
     "output_type": "stream",
     "text": [
      "🚫 No PDF found at: https://www.emsa.europa.eu/publications/download/8093/5407/23.html\n"
     ]
    },
    {
     "name": "stderr",
     "output_type": "stream",
     "text": [
      "Some characters could not be decoded, and were replaced with REPLACEMENT CHARACTER.\n"
     ]
    },
    {
     "name": "stdout",
     "output_type": "stream",
     "text": [
      "🚫 No PDF found at: https://www.emsa.europa.eu/publications/download/8094/5407/23.html\n"
     ]
    },
    {
     "name": "stderr",
     "output_type": "stream",
     "text": [
      "Some characters could not be decoded, and were replaced with REPLACEMENT CHARACTER.\n"
     ]
    },
    {
     "name": "stdout",
     "output_type": "stream",
     "text": [
      "🚫 No PDF found at: https://www.emsa.europa.eu/publications/download/8095/5407/23.html\n"
     ]
    },
    {
     "name": "stderr",
     "output_type": "stream",
     "text": [
      "Some characters could not be decoded, and were replaced with REPLACEMENT CHARACTER.\n"
     ]
    },
    {
     "name": "stdout",
     "output_type": "stream",
     "text": [
      "🚫 No PDF found at: https://www.emsa.europa.eu/publications/download/8096/5407/23.html\n"
     ]
    },
    {
     "name": "stderr",
     "output_type": "stream",
     "text": [
      "Some characters could not be decoded, and were replaced with REPLACEMENT CHARACTER.\n"
     ]
    },
    {
     "name": "stdout",
     "output_type": "stream",
     "text": [
      "🚫 No PDF found at: https://www.emsa.europa.eu/publications/download/8097/5407/23.html\n"
     ]
    },
    {
     "name": "stderr",
     "output_type": "stream",
     "text": [
      "Some characters could not be decoded, and were replaced with REPLACEMENT CHARACTER.\n"
     ]
    },
    {
     "name": "stdout",
     "output_type": "stream",
     "text": [
      "🚫 No PDF found at: https://www.emsa.europa.eu/publications/download/8098/5407/23.html\n"
     ]
    },
    {
     "name": "stderr",
     "output_type": "stream",
     "text": [
      "Some characters could not be decoded, and were replaced with REPLACEMENT CHARACTER.\n"
     ]
    },
    {
     "name": "stdout",
     "output_type": "stream",
     "text": [
      "🚫 No PDF found at: https://www.emsa.europa.eu/publications/download/8099/5407/23.html\n"
     ]
    },
    {
     "name": "stderr",
     "output_type": "stream",
     "text": [
      "Some characters could not be decoded, and were replaced with REPLACEMENT CHARACTER.\n"
     ]
    },
    {
     "name": "stdout",
     "output_type": "stream",
     "text": [
      "🚫 No PDF found at: https://www.emsa.europa.eu/publications/download/8075/5405/23.html\n"
     ]
    },
    {
     "name": "stderr",
     "output_type": "stream",
     "text": [
      "Some characters could not be decoded, and were replaced with REPLACEMENT CHARACTER.\n"
     ]
    },
    {
     "name": "stdout",
     "output_type": "stream",
     "text": [
      "🚫 No PDF found at: https://www.emsa.europa.eu/publications/download/8132/5402/23.html\n"
     ]
    },
    {
     "name": "stderr",
     "output_type": "stream",
     "text": [
      "Some characters could not be decoded, and were replaced with REPLACEMENT CHARACTER.\n"
     ]
    },
    {
     "name": "stdout",
     "output_type": "stream",
     "text": [
      "🚫 No PDF found at: https://www.emsa.europa.eu/publications/download/7727/5119/23.html\n"
     ]
    },
    {
     "name": "stderr",
     "output_type": "stream",
     "text": [
      "Some characters could not be decoded, and were replaced with REPLACEMENT CHARACTER.\n"
     ]
    },
    {
     "name": "stdout",
     "output_type": "stream",
     "text": [
      "🚫 No PDF found at: https://www.emsa.europa.eu/publications/download/8027/5119/23.html\n"
     ]
    },
    {
     "name": "stderr",
     "output_type": "stream",
     "text": [
      "Some characters could not be decoded, and were replaced with REPLACEMENT CHARACTER.\n"
     ]
    },
    {
     "name": "stdout",
     "output_type": "stream",
     "text": [
      "🚫 No PDF found at: https://www.emsa.europa.eu/publications/download/8028/5119/23.html\n"
     ]
    },
    {
     "name": "stderr",
     "output_type": "stream",
     "text": [
      "Some characters could not be decoded, and were replaced with REPLACEMENT CHARACTER.\n"
     ]
    },
    {
     "name": "stdout",
     "output_type": "stream",
     "text": [
      "🚫 No PDF found at: https://www.emsa.europa.eu/publications/download/8029/5119/23.html\n"
     ]
    }
   ],
   "source": [
    "import os\n",
    "import requests\n",
    "from bs4 import BeautifulSoup\n",
    "from urllib.parse import urljoin\n",
    "import re\n",
    "\n",
    "# Constants\n",
    "BASE_URL = \"https://www.emsa.europa.eu/publications.html\"\n",
    "DOWNLOAD_PREFIX = \"/publications/download\"\n",
    "DOWNLOAD_DIR = \"data/emsa_pdfs\"\n",
    "HEADERS = {\"User-Agent\": \"Mozilla/5.0\"}\n",
    "VERIFY_SSL = False  # EMSA got trust issues\n",
    "\n",
    "# Make sure download directory exists\n",
    "os.makedirs(DOWNLOAD_DIR, exist_ok=True)\n",
    "\n",
    "\n",
    "def sanitize_filename(name):\n",
    "    return re.sub(r\"[\\\\/*?\\\"<>|]\", \"_\", name)[:80]\n",
    "\n",
    "\n",
    "def find_pdf_links():\n",
    "    \"\"\"\n",
    "    Crawl EMSA publication base page, and extract all direct PDF URLs via embedded iframe.\n",
    "    \"\"\"\n",
    "    print(\"🔍 Scraping EMSA for embedded PDF links...\")\n",
    "\n",
    "    try:\n",
    "        res = requests.get(BASE_URL, headers=HEADERS, verify=VERIFY_SSL)\n",
    "        res.raise_for_status()\n",
    "    except Exception as e:\n",
    "        print(f\"❌ Failed to fetch base URL: {e}\")\n",
    "        return []\n",
    "\n",
    "    soup = BeautifulSoup(res.content, \"html.parser\")\n",
    "    links = []\n",
    "\n",
    "    for a in soup.find_all(\"a\", href=True):\n",
    "        href = a[\"href\"]\n",
    "        if href.startswith(DOWNLOAD_PREFIX) and href.endswith(\".html\"):\n",
    "            page_url = urljoin(BASE_URL, href)\n",
    "            title = sanitize_filename(a.get_text(strip=True) or \"EMSA_Document\")\n",
    "            links.append((page_url, title))\n",
    "\n",
    "    return links\n",
    "\n",
    "\n",
    "def extract_pdf_from_page(page_url):\n",
    "    \"\"\"\n",
    "    Visit intermediate HTML page and extract embedded PDF URL from iframe.\n",
    "    \"\"\"\n",
    "    try:\n",
    "        res = requests.get(page_url, headers=HEADERS, verify=VERIFY_SSL)\n",
    "        soup = BeautifulSoup(res.content, \"html.parser\")\n",
    "        iframe = soup.find(\"iframe\")\n",
    "        if iframe and iframe.get(\"src\", \"\").endswith(\".pdf\"):\n",
    "            return urljoin(page_url, iframe[\"src\"])\n",
    "    except Exception as e:\n",
    "        print(f\"⚠️ Error extracting PDF from {page_url}: {e}\")\n",
    "    return None\n",
    "\n",
    "\n",
    "def download_pdf(pdf_url, title, index):\n",
    "    \"\"\"\n",
    "    Actually download the PDF and save it with a readable, indexed name.\n",
    "    \"\"\"\n",
    "    filename = f\"{index:03d}_{title}.pdf\"\n",
    "    path = os.path.join(DOWNLOAD_DIR, filename)\n",
    "\n",
    "    if os.path.exists(path):\n",
    "        print(f\"✅ Already downloaded: {filename}\")\n",
    "        return\n",
    "\n",
    "    print(f\"⬇️ Downloading: {filename}\")\n",
    "    try:\n",
    "        res = requests.get(pdf_url, headers=HEADERS, stream=True, verify=VERIFY_SSL)\n",
    "        res.raise_for_status()\n",
    "\n",
    "        if \"application/pdf\" in res.headers.get(\"Content-Type\", \"\"):\n",
    "            with open(path, \"wb\") as f:\n",
    "                for chunk in res.iter_content(chunk_size=8192):\n",
    "                    f.write(chunk)\n",
    "            print(f\"✅ Saved: {filename}\")\n",
    "        else:\n",
    "            print(f\"⚠️ Not a PDF file: {pdf_url}\")\n",
    "    except Exception as e:\n",
    "        print(f\"❌ Error downloading {filename}: {e}\")\n",
    "\n",
    "\n",
    "# 🚀 Run the pipeline\n",
    "def main():\n",
    "    pdf_pages = find_pdf_links()\n",
    "    print(f\"\\n🔗 Found {len(pdf_pages)} potential PDF pages.\\n\")\n",
    "\n",
    "    for i, (html_url, title) in enumerate(pdf_pages):\n",
    "        pdf_url = extract_pdf_from_page(html_url)\n",
    "        if pdf_url:\n",
    "            download_pdf(pdf_url, title, i)\n",
    "        else:\n",
    "            print(f\"🚫 No PDF found at: {html_url}\")\n",
    "\n",
    "\n",
    "if __name__ == \"__main__\":\n",
    "    main()\n"
   ]
  },
  {
   "cell_type": "code",
   "execution_count": 21,
   "id": "45f77a52",
   "metadata": {},
   "outputs": [
    {
     "name": "stdout",
     "output_type": "stream",
     "text": [
      "🔍 Scraping EMSA index for publication links...\n",
      "\n",
      "🔗 Found 36 document-like HTML pages.\n",
      "\n",
      "⬇️ Saving: 000_EMSA CAAR2024.pdf.html\n",
      "⬇️ Saving: 001_EMSA_FACTS_FIGURES_2024.pdf.html\n",
      "⬇️ Saving: 002_Seafarers Statistics in the EU 2023 data report.pdf.html\n",
      "⬇️ Saving: 003_AFVs Guidance 1.2 2025.pdf.html\n",
      "⬇️ Saving: 004_ADER 2024.pdf.html\n",
      "⬇️ Saving: 005_emsa ipa-enp newsletter issue 2.pdf.html\n",
      "⬇️ Saving: 006_EMTER_F&F_2025_EN.pdf.html\n",
      "⬇️ Saving: 007_EMTER_F&F_2025_BG.pdf.html\n",
      "⬇️ Saving: 008_EMTER_F&F_2025_CS.pdf.html\n",
      "⬇️ Saving: 009_EMTER_F&F_2025_DA.pdf.html\n",
      "⬇️ Saving: 010_EMTER_F&F_2025_DE.pdf.html\n",
      "⬇️ Saving: 011_EMTER_F&F_2025_EL.pdf.html\n",
      "⬇️ Saving: 012_EMTER_F&F_2025_ES.pdf.html\n",
      "⬇️ Saving: 013_EMTER_F&F_2025_ET.pdf.html\n",
      "⬇️ Saving: 014_EMTER_F&F_2025_FI.pdf.html\n",
      "⬇️ Saving: 015_EMTER_F&F_2025_FR.pdf.html\n",
      "⬇️ Saving: 016_EMTER_F&F_2025_GA.pdf.html\n",
      "⬇️ Saving: 017_EMTER_F&F_2025_HR.pdf.html\n",
      "⬇️ Saving: 018_EMTER_F&F_2025_HU.pdf.html\n",
      "⬇️ Saving: 019_EMTER_F&F_2025_IT.pdf.html\n",
      "⬇️ Saving: 020_EMTER_F&F_2025_LT.pdf.html\n",
      "⬇️ Saving: 021_EMTER_F&F_2025_LV.pdf.html\n",
      "⬇️ Saving: 022_EMTER_F&F_2025_MT.pdf.html\n",
      "⬇️ Saving: 023_EMTER_F&F_2025_NL.pdf.html\n",
      "⬇️ Saving: 024_EMTER_F&F_2025_PL.pdf.html\n",
      "⬇️ Saving: 025_EMTER_F&F_2025_PT.pdf.html\n",
      "⬇️ Saving: 026_EMTER_F&F_2025_RO.pdf.html\n",
      "⬇️ Saving: 027_EMTER_F&F_2025_SK.pdf.html\n",
      "⬇️ Saving: 028_EMTER_F&F_2025_SL.pdf.html\n",
      "⬇️ Saving: 029_EMTER_F&F_2025_SV.pdf.html\n",
      "⬇️ Saving: 030_European Maritime Transport Environmental Report 2025.pdf.html\n",
      "⬇️ Saving: 031_EMSA Outlook 2025_v3.0.pdf.html\n",
      "⬇️ Saving: 032_EMSA Safe Bunkering of Biofuels - Part 1.pdf.html\n",
      "⬇️ Saving: 033_Tasks 2 and 3 - HAZID and Risk Assessment Report - EMSA Safe Bunkering of Biofue.html\n",
      "⬇️ Saving: 034_Guidance Safe Bunkering of Biofuel + Checklists - EMSA Safe Bunkering of Biofuel.html\n",
      "⬇️ Saving: 035_Final Report - EMSA Safe Bunkering of Biofuels.pdf.html\n"
     ]
    }
   ],
   "source": [
    "import os\n",
    "import requests\n",
    "from bs4 import BeautifulSoup\n",
    "from urllib.parse import urljoin\n",
    "import re\n",
    "\n",
    "# Constants\n",
    "BASE_URL = \"https://www.emsa.europa.eu/publications.html\"\n",
    "DOWNLOAD_PREFIX = \"/publications/download\"\n",
    "OUTPUT_DIR = \"data/emsa_htmls\"\n",
    "HEADERS = {\"User-Agent\": \"Mozilla/5.0\"}\n",
    "VERIFY_SSL = False\n",
    "\n",
    "os.makedirs(OUTPUT_DIR, exist_ok=True)\n",
    "\n",
    "def sanitize_filename(name):\n",
    "    return re.sub(r\"[\\\\/*?\\\"<>|]\", \"_\", name)[:80]\n",
    "\n",
    "def find_html_pages():\n",
    "    \"\"\"\n",
    "    Find all publication pages that have document-like HTML.\n",
    "    \"\"\"\n",
    "    print(\"🔍 Scraping EMSA index for publication links...\")\n",
    "    try:\n",
    "        res = requests.get(BASE_URL, headers=HEADERS, verify=VERIFY_SSL)\n",
    "        res.raise_for_status()\n",
    "    except Exception as e:\n",
    "        print(f\"❌ Failed to load index page: {e}\")\n",
    "        return []\n",
    "\n",
    "    soup = BeautifulSoup(res.content, \"html.parser\")\n",
    "    links = []\n",
    "\n",
    "    for a in soup.find_all(\"a\", href=True):\n",
    "        href = a[\"href\"]\n",
    "        if href.startswith(DOWNLOAD_PREFIX) and href.endswith(\".html\"):\n",
    "            full_url = urljoin(BASE_URL, href)\n",
    "            title = sanitize_filename(a.get_text(strip=True) or \"EMSA_Document\")\n",
    "            links.append((full_url, title))\n",
    "\n",
    "    return links\n",
    "\n",
    "\n",
    "def download_html_content(url, title, index):\n",
    "    \"\"\"\n",
    "    Download the HTML content of the publication page and save it.\n",
    "    \"\"\"\n",
    "    filename = f\"{index:03d}_{title}.html\"\n",
    "    path = os.path.join(OUTPUT_DIR, filename)\n",
    "\n",
    "    if os.path.exists(path):\n",
    "        print(f\"✅ Already saved: {filename}\")\n",
    "        return\n",
    "\n",
    "    try:\n",
    "        print(f\"⬇️ Saving: {filename}\")\n",
    "        res = requests.get(url, headers=HEADERS, verify=VERIFY_SSL)\n",
    "        res.raise_for_status()\n",
    "        with open(path, \"wb\") as f:\n",
    "            f.write(res.content)\n",
    "    except Exception as e:\n",
    "        print(f\"❌ Failed to save {url}: {e}\")\n",
    "\n",
    "\n",
    "def main():\n",
    "    pages = find_html_pages()\n",
    "    print(f\"\\n🔗 Found {len(pages)} document-like HTML pages.\\n\")\n",
    "\n",
    "    for i, (url, title) in enumerate(pages):\n",
    "        download_html_content(url, title, i)\n",
    "\n",
    "\n",
    "if __name__ == \"__main__\":\n",
    "    main()\n"
   ]
  },
  {
   "cell_type": "code",
   "execution_count": 22,
   "id": "1e954f47",
   "metadata": {},
   "outputs": [],
   "source": [
    "import mimetypes\n",
    "\n",
    "def fix_file_extensions(directory):\n",
    "    \"\"\"\n",
    "    Detect 'html' files that are actually PDFs and rename them accordingly.\n",
    "    \"\"\"\n",
    "    print(\"\\n🕵️ Detecting fake HTMLs (a.k.a. PDFs in disguise)...\")\n",
    "\n",
    "    for filename in os.listdir(directory):\n",
    "        if filename.endswith(\".html\"):\n",
    "            filepath = os.path.join(directory, filename)\n",
    "            try:\n",
    "                with open(filepath, \"rb\") as f:\n",
    "                    header = f.read(5)\n",
    "\n",
    "                if header.startswith(b\"%PDF\"):\n",
    "                    new_filename = filename.replace(\".html\", \".pdf\")\n",
    "                    new_path = os.path.join(directory, new_filename)\n",
    "                    os.rename(filepath, new_path)\n",
    "                    print(f\"📄 Renamed: {filename} → {new_filename}\")\n",
    "                else:\n",
    "                    print(f\"✅ HTML confirmed: {filename}\")\n",
    "            except Exception as e:\n",
    "                print(f\"⚠️ Error checking {filename}: {e}\")\n"
   ]
  },
  {
   "cell_type": "code",
   "execution_count": 23,
   "id": "d25546e5",
   "metadata": {},
   "outputs": [
    {
     "name": "stdout",
     "output_type": "stream",
     "text": [
      "🔍 Scraping EMSA index for publication links...\n",
      "\n",
      "🔗 Found 36 document-like HTML pages.\n",
      "\n",
      "✅ Already saved: 000_EMSA CAAR2024.pdf.html\n",
      "✅ Already saved: 001_EMSA_FACTS_FIGURES_2024.pdf.html\n",
      "✅ Already saved: 002_Seafarers Statistics in the EU 2023 data report.pdf.html\n",
      "✅ Already saved: 003_AFVs Guidance 1.2 2025.pdf.html\n",
      "✅ Already saved: 004_ADER 2024.pdf.html\n",
      "✅ Already saved: 005_emsa ipa-enp newsletter issue 2.pdf.html\n",
      "✅ Already saved: 006_EMTER_F&F_2025_EN.pdf.html\n",
      "✅ Already saved: 007_EMTER_F&F_2025_BG.pdf.html\n",
      "✅ Already saved: 008_EMTER_F&F_2025_CS.pdf.html\n",
      "✅ Already saved: 009_EMTER_F&F_2025_DA.pdf.html\n",
      "✅ Already saved: 010_EMTER_F&F_2025_DE.pdf.html\n",
      "✅ Already saved: 011_EMTER_F&F_2025_EL.pdf.html\n",
      "✅ Already saved: 012_EMTER_F&F_2025_ES.pdf.html\n",
      "✅ Already saved: 013_EMTER_F&F_2025_ET.pdf.html\n",
      "✅ Already saved: 014_EMTER_F&F_2025_FI.pdf.html\n",
      "✅ Already saved: 015_EMTER_F&F_2025_FR.pdf.html\n",
      "✅ Already saved: 016_EMTER_F&F_2025_GA.pdf.html\n",
      "✅ Already saved: 017_EMTER_F&F_2025_HR.pdf.html\n",
      "✅ Already saved: 018_EMTER_F&F_2025_HU.pdf.html\n",
      "✅ Already saved: 019_EMTER_F&F_2025_IT.pdf.html\n",
      "✅ Already saved: 020_EMTER_F&F_2025_LT.pdf.html\n",
      "✅ Already saved: 021_EMTER_F&F_2025_LV.pdf.html\n",
      "✅ Already saved: 022_EMTER_F&F_2025_MT.pdf.html\n",
      "✅ Already saved: 023_EMTER_F&F_2025_NL.pdf.html\n",
      "✅ Already saved: 024_EMTER_F&F_2025_PL.pdf.html\n",
      "✅ Already saved: 025_EMTER_F&F_2025_PT.pdf.html\n",
      "✅ Already saved: 026_EMTER_F&F_2025_RO.pdf.html\n",
      "✅ Already saved: 027_EMTER_F&F_2025_SK.pdf.html\n",
      "✅ Already saved: 028_EMTER_F&F_2025_SL.pdf.html\n",
      "✅ Already saved: 029_EMTER_F&F_2025_SV.pdf.html\n",
      "✅ Already saved: 030_European Maritime Transport Environmental Report 2025.pdf.html\n",
      "✅ Already saved: 031_EMSA Outlook 2025_v3.0.pdf.html\n",
      "✅ Already saved: 032_EMSA Safe Bunkering of Biofuels - Part 1.pdf.html\n",
      "✅ Already saved: 033_Tasks 2 and 3 - HAZID and Risk Assessment Report - EMSA Safe Bunkering of Biofue.html\n",
      "✅ Already saved: 034_Guidance Safe Bunkering of Biofuel + Checklists - EMSA Safe Bunkering of Biofuel.html\n",
      "✅ Already saved: 035_Final Report - EMSA Safe Bunkering of Biofuels.pdf.html\n",
      "\n",
      "🕵️ Detecting fake HTMLs (a.k.a. PDFs in disguise)...\n",
      "📄 Renamed: 000_EMSA CAAR2024.pdf.html → 000_EMSA CAAR2024.pdf.pdf\n",
      "📄 Renamed: 001_EMSA_FACTS_FIGURES_2024.pdf.html → 001_EMSA_FACTS_FIGURES_2024.pdf.pdf\n",
      "📄 Renamed: 002_Seafarers Statistics in the EU 2023 data report.pdf.html → 002_Seafarers Statistics in the EU 2023 data report.pdf.pdf\n",
      "📄 Renamed: 003_AFVs Guidance 1.2 2025.pdf.html → 003_AFVs Guidance 1.2 2025.pdf.pdf\n",
      "📄 Renamed: 004_ADER 2024.pdf.html → 004_ADER 2024.pdf.pdf\n",
      "📄 Renamed: 005_emsa ipa-enp newsletter issue 2.pdf.html → 005_emsa ipa-enp newsletter issue 2.pdf.pdf\n",
      "📄 Renamed: 006_EMTER_F&F_2025_EN.pdf.html → 006_EMTER_F&F_2025_EN.pdf.pdf\n",
      "📄 Renamed: 007_EMTER_F&F_2025_BG.pdf.html → 007_EMTER_F&F_2025_BG.pdf.pdf\n",
      "📄 Renamed: 008_EMTER_F&F_2025_CS.pdf.html → 008_EMTER_F&F_2025_CS.pdf.pdf\n",
      "📄 Renamed: 009_EMTER_F&F_2025_DA.pdf.html → 009_EMTER_F&F_2025_DA.pdf.pdf\n",
      "📄 Renamed: 010_EMTER_F&F_2025_DE.pdf.html → 010_EMTER_F&F_2025_DE.pdf.pdf\n",
      "📄 Renamed: 011_EMTER_F&F_2025_EL.pdf.html → 011_EMTER_F&F_2025_EL.pdf.pdf\n",
      "📄 Renamed: 012_EMTER_F&F_2025_ES.pdf.html → 012_EMTER_F&F_2025_ES.pdf.pdf\n",
      "📄 Renamed: 013_EMTER_F&F_2025_ET.pdf.html → 013_EMTER_F&F_2025_ET.pdf.pdf\n",
      "📄 Renamed: 014_EMTER_F&F_2025_FI.pdf.html → 014_EMTER_F&F_2025_FI.pdf.pdf\n",
      "📄 Renamed: 015_EMTER_F&F_2025_FR.pdf.html → 015_EMTER_F&F_2025_FR.pdf.pdf\n",
      "📄 Renamed: 016_EMTER_F&F_2025_GA.pdf.html → 016_EMTER_F&F_2025_GA.pdf.pdf\n",
      "📄 Renamed: 017_EMTER_F&F_2025_HR.pdf.html → 017_EMTER_F&F_2025_HR.pdf.pdf\n",
      "📄 Renamed: 018_EMTER_F&F_2025_HU.pdf.html → 018_EMTER_F&F_2025_HU.pdf.pdf\n",
      "📄 Renamed: 019_EMTER_F&F_2025_IT.pdf.html → 019_EMTER_F&F_2025_IT.pdf.pdf\n",
      "📄 Renamed: 020_EMTER_F&F_2025_LT.pdf.html → 020_EMTER_F&F_2025_LT.pdf.pdf\n",
      "📄 Renamed: 021_EMTER_F&F_2025_LV.pdf.html → 021_EMTER_F&F_2025_LV.pdf.pdf\n",
      "📄 Renamed: 022_EMTER_F&F_2025_MT.pdf.html → 022_EMTER_F&F_2025_MT.pdf.pdf\n",
      "📄 Renamed: 023_EMTER_F&F_2025_NL.pdf.html → 023_EMTER_F&F_2025_NL.pdf.pdf\n",
      "📄 Renamed: 024_EMTER_F&F_2025_PL.pdf.html → 024_EMTER_F&F_2025_PL.pdf.pdf\n",
      "📄 Renamed: 025_EMTER_F&F_2025_PT.pdf.html → 025_EMTER_F&F_2025_PT.pdf.pdf\n",
      "📄 Renamed: 026_EMTER_F&F_2025_RO.pdf.html → 026_EMTER_F&F_2025_RO.pdf.pdf\n",
      "📄 Renamed: 027_EMTER_F&F_2025_SK.pdf.html → 027_EMTER_F&F_2025_SK.pdf.pdf\n",
      "📄 Renamed: 028_EMTER_F&F_2025_SL.pdf.html → 028_EMTER_F&F_2025_SL.pdf.pdf\n",
      "📄 Renamed: 029_EMTER_F&F_2025_SV.pdf.html → 029_EMTER_F&F_2025_SV.pdf.pdf\n",
      "📄 Renamed: 030_European Maritime Transport Environmental Report 2025.pdf.html → 030_European Maritime Transport Environmental Report 2025.pdf.pdf\n",
      "📄 Renamed: 031_EMSA Outlook 2025_v3.0.pdf.html → 031_EMSA Outlook 2025_v3.0.pdf.pdf\n",
      "📄 Renamed: 032_EMSA Safe Bunkering of Biofuels - Part 1.pdf.html → 032_EMSA Safe Bunkering of Biofuels - Part 1.pdf.pdf\n",
      "📄 Renamed: 033_Tasks 2 and 3 - HAZID and Risk Assessment Report - EMSA Safe Bunkering of Biofue.html → 033_Tasks 2 and 3 - HAZID and Risk Assessment Report - EMSA Safe Bunkering of Biofue.pdf\n",
      "📄 Renamed: 034_Guidance Safe Bunkering of Biofuel + Checklists - EMSA Safe Bunkering of Biofuel.html → 034_Guidance Safe Bunkering of Biofuel + Checklists - EMSA Safe Bunkering of Biofuel.pdf\n",
      "📄 Renamed: 035_Final Report - EMSA Safe Bunkering of Biofuels.pdf.html → 035_Final Report - EMSA Safe Bunkering of Biofuels.pdf.pdf\n"
     ]
    }
   ],
   "source": [
    "if __name__ == \"__main__\":\n",
    "    main()\n",
    "    fix_file_extensions(OUTPUT_DIR)\n"
   ]
  },
  {
   "cell_type": "code",
   "execution_count": 1,
   "id": "0b78bef8",
   "metadata": {},
   "outputs": [
    {
     "name": "stdout",
     "output_type": "stream",
     "text": [
      "🔍 Scraping EMSA index for publication links...\n"
     ]
    },
    {
     "name": "stderr",
     "output_type": "stream",
     "text": [
      "c:\\BUSDATA\\envs\\py310\\lib\\site-packages\\urllib3\\connectionpool.py:1097: InsecureRequestWarning: Unverified HTTPS request is being made to host 'www.emsa.europa.eu'. Adding certificate verification is strongly advised. See: https://urllib3.readthedocs.io/en/latest/advanced-usage.html#tls-warnings\n",
      "  warnings.warn(\n"
     ]
    },
    {
     "name": "stdout",
     "output_type": "stream",
     "text": [
      "\n",
      "🔗 Found 33 document-like HTML pages.\n",
      "\n",
      "📝 Extracting: 000_EMSA Catalogue 2025 v26.06.pdf.txt\n"
     ]
    },
    {
     "name": "stderr",
     "output_type": "stream",
     "text": [
      "c:\\BUSDATA\\envs\\py310\\lib\\site-packages\\urllib3\\connectionpool.py:1097: InsecureRequestWarning: Unverified HTTPS request is being made to host 'www.emsa.europa.eu'. Adding certificate verification is strongly advised. See: https://urllib3.readthedocs.io/en/latest/advanced-usage.html#tls-warnings\n",
      "  warnings.warn(\n",
      "Some characters could not be decoded, and were replaced with REPLACEMENT CHARACTER.\n"
     ]
    },
    {
     "name": "stdout",
     "output_type": "stream",
     "text": [
      "📝 Extracting: 001_EMSA CAAR2024.pdf.txt\n"
     ]
    },
    {
     "name": "stderr",
     "output_type": "stream",
     "text": [
      "c:\\BUSDATA\\envs\\py310\\lib\\site-packages\\urllib3\\connectionpool.py:1097: InsecureRequestWarning: Unverified HTTPS request is being made to host 'www.emsa.europa.eu'. Adding certificate verification is strongly advised. See: https://urllib3.readthedocs.io/en/latest/advanced-usage.html#tls-warnings\n",
      "  warnings.warn(\n",
      "Some characters could not be decoded, and were replaced with REPLACEMENT CHARACTER.\n"
     ]
    },
    {
     "name": "stdout",
     "output_type": "stream",
     "text": [
      "📝 Extracting: 002_EMSA_FACTS_FIGURES_2024.pdf.txt\n"
     ]
    },
    {
     "name": "stderr",
     "output_type": "stream",
     "text": [
      "c:\\BUSDATA\\envs\\py310\\lib\\site-packages\\urllib3\\connectionpool.py:1097: InsecureRequestWarning: Unverified HTTPS request is being made to host 'www.emsa.europa.eu'. Adding certificate verification is strongly advised. See: https://urllib3.readthedocs.io/en/latest/advanced-usage.html#tls-warnings\n",
      "  warnings.warn(\n",
      "Some characters could not be decoded, and were replaced with REPLACEMENT CHARACTER.\n"
     ]
    },
    {
     "name": "stdout",
     "output_type": "stream",
     "text": [
      "📝 Extracting: 003_Seafarers Statistics in the EU 2023 data report.pdf.txt\n"
     ]
    },
    {
     "name": "stderr",
     "output_type": "stream",
     "text": [
      "c:\\BUSDATA\\envs\\py310\\lib\\site-packages\\urllib3\\connectionpool.py:1097: InsecureRequestWarning: Unverified HTTPS request is being made to host 'www.emsa.europa.eu'. Adding certificate verification is strongly advised. See: https://urllib3.readthedocs.io/en/latest/advanced-usage.html#tls-warnings\n",
      "  warnings.warn(\n",
      "Some characters could not be decoded, and were replaced with REPLACEMENT CHARACTER.\n"
     ]
    },
    {
     "name": "stdout",
     "output_type": "stream",
     "text": [
      "📝 Extracting: 004_AFVs Guidance 1.2 2025.pdf.txt\n"
     ]
    },
    {
     "name": "stderr",
     "output_type": "stream",
     "text": [
      "c:\\BUSDATA\\envs\\py310\\lib\\site-packages\\urllib3\\connectionpool.py:1097: InsecureRequestWarning: Unverified HTTPS request is being made to host 'www.emsa.europa.eu'. Adding certificate verification is strongly advised. See: https://urllib3.readthedocs.io/en/latest/advanced-usage.html#tls-warnings\n",
      "  warnings.warn(\n",
      "Some characters could not be decoded, and were replaced with REPLACEMENT CHARACTER.\n"
     ]
    },
    {
     "name": "stdout",
     "output_type": "stream",
     "text": [
      "📝 Extracting: 005_ADER 2024.pdf.txt\n"
     ]
    },
    {
     "name": "stderr",
     "output_type": "stream",
     "text": [
      "c:\\BUSDATA\\envs\\py310\\lib\\site-packages\\urllib3\\connectionpool.py:1097: InsecureRequestWarning: Unverified HTTPS request is being made to host 'www.emsa.europa.eu'. Adding certificate verification is strongly advised. See: https://urllib3.readthedocs.io/en/latest/advanced-usage.html#tls-warnings\n",
      "  warnings.warn(\n",
      "Some characters could not be decoded, and were replaced with REPLACEMENT CHARACTER.\n"
     ]
    },
    {
     "name": "stdout",
     "output_type": "stream",
     "text": [
      "📝 Extracting: 006_emsa ipa-enp newsletter issue 2.pdf.txt\n"
     ]
    },
    {
     "name": "stderr",
     "output_type": "stream",
     "text": [
      "c:\\BUSDATA\\envs\\py310\\lib\\site-packages\\urllib3\\connectionpool.py:1097: InsecureRequestWarning: Unverified HTTPS request is being made to host 'www.emsa.europa.eu'. Adding certificate verification is strongly advised. See: https://urllib3.readthedocs.io/en/latest/advanced-usage.html#tls-warnings\n",
      "  warnings.warn(\n",
      "Some characters could not be decoded, and were replaced with REPLACEMENT CHARACTER.\n"
     ]
    },
    {
     "name": "stdout",
     "output_type": "stream",
     "text": [
      "📝 Extracting: 007_EMTER_F&F_2025_EN.pdf.txt\n"
     ]
    },
    {
     "name": "stderr",
     "output_type": "stream",
     "text": [
      "c:\\BUSDATA\\envs\\py310\\lib\\site-packages\\urllib3\\connectionpool.py:1097: InsecureRequestWarning: Unverified HTTPS request is being made to host 'www.emsa.europa.eu'. Adding certificate verification is strongly advised. See: https://urllib3.readthedocs.io/en/latest/advanced-usage.html#tls-warnings\n",
      "  warnings.warn(\n"
     ]
    },
    {
     "name": "stdout",
     "output_type": "stream",
     "text": [
      "📝 Extracting: 008_EMTER_F&F_2025_BG.pdf.txt\n"
     ]
    },
    {
     "name": "stderr",
     "output_type": "stream",
     "text": [
      "c:\\BUSDATA\\envs\\py310\\lib\\site-packages\\urllib3\\connectionpool.py:1097: InsecureRequestWarning: Unverified HTTPS request is being made to host 'www.emsa.europa.eu'. Adding certificate verification is strongly advised. See: https://urllib3.readthedocs.io/en/latest/advanced-usage.html#tls-warnings\n",
      "  warnings.warn(\n",
      "Some characters could not be decoded, and were replaced with REPLACEMENT CHARACTER.\n"
     ]
    },
    {
     "name": "stdout",
     "output_type": "stream",
     "text": [
      "📝 Extracting: 009_EMTER_F&F_2025_CS.pdf.txt\n"
     ]
    },
    {
     "name": "stderr",
     "output_type": "stream",
     "text": [
      "c:\\BUSDATA\\envs\\py310\\lib\\site-packages\\urllib3\\connectionpool.py:1097: InsecureRequestWarning: Unverified HTTPS request is being made to host 'www.emsa.europa.eu'. Adding certificate verification is strongly advised. See: https://urllib3.readthedocs.io/en/latest/advanced-usage.html#tls-warnings\n",
      "  warnings.warn(\n",
      "Some characters could not be decoded, and were replaced with REPLACEMENT CHARACTER.\n"
     ]
    },
    {
     "name": "stdout",
     "output_type": "stream",
     "text": [
      "📝 Extracting: 010_EMTER_F&F_2025_DA.pdf.txt\n"
     ]
    },
    {
     "name": "stderr",
     "output_type": "stream",
     "text": [
      "c:\\BUSDATA\\envs\\py310\\lib\\site-packages\\urllib3\\connectionpool.py:1097: InsecureRequestWarning: Unverified HTTPS request is being made to host 'www.emsa.europa.eu'. Adding certificate verification is strongly advised. See: https://urllib3.readthedocs.io/en/latest/advanced-usage.html#tls-warnings\n",
      "  warnings.warn(\n",
      "Some characters could not be decoded, and were replaced with REPLACEMENT CHARACTER.\n"
     ]
    },
    {
     "name": "stdout",
     "output_type": "stream",
     "text": [
      "📝 Extracting: 011_EMTER_F&F_2025_DE.pdf.txt\n"
     ]
    },
    {
     "name": "stderr",
     "output_type": "stream",
     "text": [
      "c:\\BUSDATA\\envs\\py310\\lib\\site-packages\\urllib3\\connectionpool.py:1097: InsecureRequestWarning: Unverified HTTPS request is being made to host 'www.emsa.europa.eu'. Adding certificate verification is strongly advised. See: https://urllib3.readthedocs.io/en/latest/advanced-usage.html#tls-warnings\n",
      "  warnings.warn(\n",
      "Some characters could not be decoded, and were replaced with REPLACEMENT CHARACTER.\n"
     ]
    },
    {
     "name": "stdout",
     "output_type": "stream",
     "text": [
      "📝 Extracting: 012_EMTER_F&F_2025_EL.pdf.txt\n"
     ]
    },
    {
     "name": "stderr",
     "output_type": "stream",
     "text": [
      "c:\\BUSDATA\\envs\\py310\\lib\\site-packages\\urllib3\\connectionpool.py:1097: InsecureRequestWarning: Unverified HTTPS request is being made to host 'www.emsa.europa.eu'. Adding certificate verification is strongly advised. See: https://urllib3.readthedocs.io/en/latest/advanced-usage.html#tls-warnings\n",
      "  warnings.warn(\n",
      "Some characters could not be decoded, and were replaced with REPLACEMENT CHARACTER.\n"
     ]
    },
    {
     "name": "stdout",
     "output_type": "stream",
     "text": [
      "📝 Extracting: 013_EMTER_F&F_2025_ES.pdf.txt\n"
     ]
    },
    {
     "name": "stderr",
     "output_type": "stream",
     "text": [
      "c:\\BUSDATA\\envs\\py310\\lib\\site-packages\\urllib3\\connectionpool.py:1097: InsecureRequestWarning: Unverified HTTPS request is being made to host 'www.emsa.europa.eu'. Adding certificate verification is strongly advised. See: https://urllib3.readthedocs.io/en/latest/advanced-usage.html#tls-warnings\n",
      "  warnings.warn(\n",
      "Some characters could not be decoded, and were replaced with REPLACEMENT CHARACTER.\n"
     ]
    },
    {
     "name": "stdout",
     "output_type": "stream",
     "text": [
      "📝 Extracting: 014_EMTER_F&F_2025_ET.pdf.txt\n"
     ]
    },
    {
     "name": "stderr",
     "output_type": "stream",
     "text": [
      "c:\\BUSDATA\\envs\\py310\\lib\\site-packages\\urllib3\\connectionpool.py:1097: InsecureRequestWarning: Unverified HTTPS request is being made to host 'www.emsa.europa.eu'. Adding certificate verification is strongly advised. See: https://urllib3.readthedocs.io/en/latest/advanced-usage.html#tls-warnings\n",
      "  warnings.warn(\n",
      "Some characters could not be decoded, and were replaced with REPLACEMENT CHARACTER.\n"
     ]
    },
    {
     "name": "stdout",
     "output_type": "stream",
     "text": [
      "📝 Extracting: 015_EMTER_F&F_2025_FI.pdf.txt\n"
     ]
    },
    {
     "name": "stderr",
     "output_type": "stream",
     "text": [
      "c:\\BUSDATA\\envs\\py310\\lib\\site-packages\\urllib3\\connectionpool.py:1097: InsecureRequestWarning: Unverified HTTPS request is being made to host 'www.emsa.europa.eu'. Adding certificate verification is strongly advised. See: https://urllib3.readthedocs.io/en/latest/advanced-usage.html#tls-warnings\n",
      "  warnings.warn(\n",
      "Some characters could not be decoded, and were replaced with REPLACEMENT CHARACTER.\n"
     ]
    },
    {
     "name": "stdout",
     "output_type": "stream",
     "text": [
      "📝 Extracting: 016_EMTER_F&F_2025_FR.pdf.txt\n"
     ]
    },
    {
     "name": "stderr",
     "output_type": "stream",
     "text": [
      "c:\\BUSDATA\\envs\\py310\\lib\\site-packages\\urllib3\\connectionpool.py:1097: InsecureRequestWarning: Unverified HTTPS request is being made to host 'www.emsa.europa.eu'. Adding certificate verification is strongly advised. See: https://urllib3.readthedocs.io/en/latest/advanced-usage.html#tls-warnings\n",
      "  warnings.warn(\n",
      "Some characters could not be decoded, and were replaced with REPLACEMENT CHARACTER.\n"
     ]
    },
    {
     "name": "stdout",
     "output_type": "stream",
     "text": [
      "📝 Extracting: 017_EMTER_F&F_2025_GA.pdf.txt\n"
     ]
    },
    {
     "name": "stderr",
     "output_type": "stream",
     "text": [
      "c:\\BUSDATA\\envs\\py310\\lib\\site-packages\\urllib3\\connectionpool.py:1097: InsecureRequestWarning: Unverified HTTPS request is being made to host 'www.emsa.europa.eu'. Adding certificate verification is strongly advised. See: https://urllib3.readthedocs.io/en/latest/advanced-usage.html#tls-warnings\n",
      "  warnings.warn(\n"
     ]
    },
    {
     "name": "stdout",
     "output_type": "stream",
     "text": [
      "📝 Extracting: 018_EMTER_F&F_2025_HR.pdf.txt\n"
     ]
    },
    {
     "name": "stderr",
     "output_type": "stream",
     "text": [
      "c:\\BUSDATA\\envs\\py310\\lib\\site-packages\\urllib3\\connectionpool.py:1097: InsecureRequestWarning: Unverified HTTPS request is being made to host 'www.emsa.europa.eu'. Adding certificate verification is strongly advised. See: https://urllib3.readthedocs.io/en/latest/advanced-usage.html#tls-warnings\n",
      "  warnings.warn(\n",
      "Some characters could not be decoded, and were replaced with REPLACEMENT CHARACTER.\n"
     ]
    },
    {
     "name": "stdout",
     "output_type": "stream",
     "text": [
      "📝 Extracting: 019_EMTER_F&F_2025_HU.pdf.txt\n"
     ]
    },
    {
     "name": "stderr",
     "output_type": "stream",
     "text": [
      "c:\\BUSDATA\\envs\\py310\\lib\\site-packages\\urllib3\\connectionpool.py:1097: InsecureRequestWarning: Unverified HTTPS request is being made to host 'www.emsa.europa.eu'. Adding certificate verification is strongly advised. See: https://urllib3.readthedocs.io/en/latest/advanced-usage.html#tls-warnings\n",
      "  warnings.warn(\n",
      "Some characters could not be decoded, and were replaced with REPLACEMENT CHARACTER.\n"
     ]
    },
    {
     "name": "stdout",
     "output_type": "stream",
     "text": [
      "📝 Extracting: 020_EMTER_F&F_2025_IT.pdf.txt\n"
     ]
    },
    {
     "name": "stderr",
     "output_type": "stream",
     "text": [
      "c:\\BUSDATA\\envs\\py310\\lib\\site-packages\\urllib3\\connectionpool.py:1097: InsecureRequestWarning: Unverified HTTPS request is being made to host 'www.emsa.europa.eu'. Adding certificate verification is strongly advised. See: https://urllib3.readthedocs.io/en/latest/advanced-usage.html#tls-warnings\n",
      "  warnings.warn(\n",
      "Some characters could not be decoded, and were replaced with REPLACEMENT CHARACTER.\n"
     ]
    },
    {
     "name": "stdout",
     "output_type": "stream",
     "text": [
      "📝 Extracting: 021_EMTER_F&F_2025_LT.pdf.txt\n"
     ]
    },
    {
     "name": "stderr",
     "output_type": "stream",
     "text": [
      "c:\\BUSDATA\\envs\\py310\\lib\\site-packages\\urllib3\\connectionpool.py:1097: InsecureRequestWarning: Unverified HTTPS request is being made to host 'www.emsa.europa.eu'. Adding certificate verification is strongly advised. See: https://urllib3.readthedocs.io/en/latest/advanced-usage.html#tls-warnings\n",
      "  warnings.warn(\n",
      "Some characters could not be decoded, and were replaced with REPLACEMENT CHARACTER.\n"
     ]
    },
    {
     "name": "stdout",
     "output_type": "stream",
     "text": [
      "📝 Extracting: 022_EMTER_F&F_2025_LV.pdf.txt\n"
     ]
    },
    {
     "name": "stderr",
     "output_type": "stream",
     "text": [
      "c:\\BUSDATA\\envs\\py310\\lib\\site-packages\\urllib3\\connectionpool.py:1097: InsecureRequestWarning: Unverified HTTPS request is being made to host 'www.emsa.europa.eu'. Adding certificate verification is strongly advised. See: https://urllib3.readthedocs.io/en/latest/advanced-usage.html#tls-warnings\n",
      "  warnings.warn(\n",
      "Some characters could not be decoded, and were replaced with REPLACEMENT CHARACTER.\n"
     ]
    },
    {
     "name": "stdout",
     "output_type": "stream",
     "text": [
      "📝 Extracting: 023_EMTER_F&F_2025_MT.pdf.txt\n"
     ]
    },
    {
     "name": "stderr",
     "output_type": "stream",
     "text": [
      "c:\\BUSDATA\\envs\\py310\\lib\\site-packages\\urllib3\\connectionpool.py:1097: InsecureRequestWarning: Unverified HTTPS request is being made to host 'www.emsa.europa.eu'. Adding certificate verification is strongly advised. See: https://urllib3.readthedocs.io/en/latest/advanced-usage.html#tls-warnings\n",
      "  warnings.warn(\n",
      "Some characters could not be decoded, and were replaced with REPLACEMENT CHARACTER.\n"
     ]
    },
    {
     "name": "stdout",
     "output_type": "stream",
     "text": [
      "📝 Extracting: 024_EMTER_F&F_2025_NL.pdf.txt\n"
     ]
    },
    {
     "name": "stderr",
     "output_type": "stream",
     "text": [
      "c:\\BUSDATA\\envs\\py310\\lib\\site-packages\\urllib3\\connectionpool.py:1097: InsecureRequestWarning: Unverified HTTPS request is being made to host 'www.emsa.europa.eu'. Adding certificate verification is strongly advised. See: https://urllib3.readthedocs.io/en/latest/advanced-usage.html#tls-warnings\n",
      "  warnings.warn(\n",
      "Some characters could not be decoded, and were replaced with REPLACEMENT CHARACTER.\n"
     ]
    },
    {
     "name": "stdout",
     "output_type": "stream",
     "text": [
      "📝 Extracting: 025_EMTER_F&F_2025_PL.pdf.txt\n"
     ]
    },
    {
     "name": "stderr",
     "output_type": "stream",
     "text": [
      "c:\\BUSDATA\\envs\\py310\\lib\\site-packages\\urllib3\\connectionpool.py:1097: InsecureRequestWarning: Unverified HTTPS request is being made to host 'www.emsa.europa.eu'. Adding certificate verification is strongly advised. See: https://urllib3.readthedocs.io/en/latest/advanced-usage.html#tls-warnings\n",
      "  warnings.warn(\n",
      "Some characters could not be decoded, and were replaced with REPLACEMENT CHARACTER.\n"
     ]
    },
    {
     "name": "stdout",
     "output_type": "stream",
     "text": [
      "📝 Extracting: 026_EMTER_F&F_2025_PT.pdf.txt\n"
     ]
    },
    {
     "name": "stderr",
     "output_type": "stream",
     "text": [
      "c:\\BUSDATA\\envs\\py310\\lib\\site-packages\\urllib3\\connectionpool.py:1097: InsecureRequestWarning: Unverified HTTPS request is being made to host 'www.emsa.europa.eu'. Adding certificate verification is strongly advised. See: https://urllib3.readthedocs.io/en/latest/advanced-usage.html#tls-warnings\n",
      "  warnings.warn(\n",
      "Some characters could not be decoded, and were replaced with REPLACEMENT CHARACTER.\n"
     ]
    },
    {
     "name": "stdout",
     "output_type": "stream",
     "text": [
      "📝 Extracting: 027_EMTER_F&F_2025_RO.pdf.txt\n"
     ]
    },
    {
     "name": "stderr",
     "output_type": "stream",
     "text": [
      "c:\\BUSDATA\\envs\\py310\\lib\\site-packages\\urllib3\\connectionpool.py:1097: InsecureRequestWarning: Unverified HTTPS request is being made to host 'www.emsa.europa.eu'. Adding certificate verification is strongly advised. See: https://urllib3.readthedocs.io/en/latest/advanced-usage.html#tls-warnings\n",
      "  warnings.warn(\n",
      "Some characters could not be decoded, and were replaced with REPLACEMENT CHARACTER.\n"
     ]
    },
    {
     "name": "stdout",
     "output_type": "stream",
     "text": [
      "📝 Extracting: 028_EMTER_F&F_2025_SK.pdf.txt\n"
     ]
    },
    {
     "name": "stderr",
     "output_type": "stream",
     "text": [
      "c:\\BUSDATA\\envs\\py310\\lib\\site-packages\\urllib3\\connectionpool.py:1097: InsecureRequestWarning: Unverified HTTPS request is being made to host 'www.emsa.europa.eu'. Adding certificate verification is strongly advised. See: https://urllib3.readthedocs.io/en/latest/advanced-usage.html#tls-warnings\n",
      "  warnings.warn(\n",
      "Some characters could not be decoded, and were replaced with REPLACEMENT CHARACTER.\n"
     ]
    },
    {
     "name": "stdout",
     "output_type": "stream",
     "text": [
      "📝 Extracting: 029_EMTER_F&F_2025_SL.pdf.txt\n"
     ]
    },
    {
     "name": "stderr",
     "output_type": "stream",
     "text": [
      "c:\\BUSDATA\\envs\\py310\\lib\\site-packages\\urllib3\\connectionpool.py:1097: InsecureRequestWarning: Unverified HTTPS request is being made to host 'www.emsa.europa.eu'. Adding certificate verification is strongly advised. See: https://urllib3.readthedocs.io/en/latest/advanced-usage.html#tls-warnings\n",
      "  warnings.warn(\n",
      "Some characters could not be decoded, and were replaced with REPLACEMENT CHARACTER.\n"
     ]
    },
    {
     "name": "stdout",
     "output_type": "stream",
     "text": [
      "📝 Extracting: 030_EMTER_F&F_2025_SV.pdf.txt\n"
     ]
    },
    {
     "name": "stderr",
     "output_type": "stream",
     "text": [
      "c:\\BUSDATA\\envs\\py310\\lib\\site-packages\\urllib3\\connectionpool.py:1097: InsecureRequestWarning: Unverified HTTPS request is being made to host 'www.emsa.europa.eu'. Adding certificate verification is strongly advised. See: https://urllib3.readthedocs.io/en/latest/advanced-usage.html#tls-warnings\n",
      "  warnings.warn(\n",
      "Some characters could not be decoded, and were replaced with REPLACEMENT CHARACTER.\n"
     ]
    },
    {
     "name": "stdout",
     "output_type": "stream",
     "text": [
      "📝 Extracting: 031_European Maritime Transport Environmental Report 2025.pdf.txt\n"
     ]
    },
    {
     "name": "stderr",
     "output_type": "stream",
     "text": [
      "c:\\BUSDATA\\envs\\py310\\lib\\site-packages\\urllib3\\connectionpool.py:1097: InsecureRequestWarning: Unverified HTTPS request is being made to host 'www.emsa.europa.eu'. Adding certificate verification is strongly advised. See: https://urllib3.readthedocs.io/en/latest/advanced-usage.html#tls-warnings\n",
      "  warnings.warn(\n",
      "Some characters could not be decoded, and were replaced with REPLACEMENT CHARACTER.\n"
     ]
    },
    {
     "name": "stdout",
     "output_type": "stream",
     "text": [
      "📝 Extracting: 032_EMSA Outlook 2025_v3.0.pdf.txt\n"
     ]
    },
    {
     "name": "stderr",
     "output_type": "stream",
     "text": [
      "c:\\BUSDATA\\envs\\py310\\lib\\site-packages\\urllib3\\connectionpool.py:1097: InsecureRequestWarning: Unverified HTTPS request is being made to host 'www.emsa.europa.eu'. Adding certificate verification is strongly advised. See: https://urllib3.readthedocs.io/en/latest/advanced-usage.html#tls-warnings\n",
      "  warnings.warn(\n",
      "Some characters could not be decoded, and were replaced with REPLACEMENT CHARACTER.\n"
     ]
    }
   ],
   "source": [
    "import os\n",
    "import requests\n",
    "from bs4 import BeautifulSoup\n",
    "from urllib.parse import urljoin\n",
    "import re\n",
    "\n",
    "# Constants\n",
    "BASE_URL = \"https://www.emsa.europa.eu/publications.html\"\n",
    "DOWNLOAD_PREFIX = \"/publications/download\"\n",
    "OUTPUT_DIR = \"data/emsa_texts\"\n",
    "HEADERS = {\"User-Agent\": \"Mozilla/5.0\"}\n",
    "VERIFY_SSL = False\n",
    "\n",
    "os.makedirs(OUTPUT_DIR, exist_ok=True)\n",
    "\n",
    "def sanitize_filename(name):\n",
    "    return re.sub(r\"[\\\\/*?\\\"<>|]\", \"_\", name)[:80]\n",
    "\n",
    "def find_html_pages():\n",
    "    print(\"🔍 Scraping EMSA index for publication links...\")\n",
    "    try:\n",
    "        res = requests.get(BASE_URL, headers=HEADERS, verify=VERIFY_SSL)\n",
    "        res.raise_for_status()\n",
    "    except Exception as e:\n",
    "        print(f\"❌ Failed to load index page: {e}\")\n",
    "        return []\n",
    "\n",
    "    soup = BeautifulSoup(res.content, \"html.parser\")\n",
    "    links = []\n",
    "\n",
    "    for a in soup.find_all(\"a\", href=True):\n",
    "        href = a[\"href\"]\n",
    "        if href.startswith(DOWNLOAD_PREFIX) and href.endswith(\".html\"):\n",
    "            full_url = urljoin(BASE_URL, href)\n",
    "            title = sanitize_filename(a.get_text(strip=True) or \"EMSA_Document\")\n",
    "            links.append((full_url, title))\n",
    "\n",
    "    return links\n",
    "\n",
    "def extract_and_save_text(url, title, index):\n",
    "    filename = f\"{index:03d}_{title}.txt\"\n",
    "    path = os.path.join(OUTPUT_DIR, filename)\n",
    "\n",
    "    if os.path.exists(path):\n",
    "        print(f\"✅ Already extracted: {filename}\")\n",
    "        return\n",
    "\n",
    "    try:\n",
    "        print(f\"📝 Extracting: {filename}\")\n",
    "        res = requests.get(url, headers=HEADERS, verify=VERIFY_SSL)\n",
    "        res.raise_for_status()\n",
    "        soup = BeautifulSoup(res.content, \"html.parser\")\n",
    "\n",
    "        # Extract text from all relevant tags\n",
    "        content = []\n",
    "        for tag in soup.find_all(['h1', 'h2', 'h3', 'p', 'li']):\n",
    "            text = tag.get_text(strip=True)\n",
    "            if text:\n",
    "                content.append(text)\n",
    "\n",
    "        full_text = \"\\n\".join(content)\n",
    "\n",
    "        with open(path, \"w\", encoding=\"utf-8\") as f:\n",
    "            f.write(full_text)\n",
    "\n",
    "    except Exception as e:\n",
    "        print(f\"❌ Failed to extract from {url}: {e}\")\n",
    "\n",
    "def main():\n",
    "    pages = find_html_pages()\n",
    "    print(f\"\\n🔗 Found {len(pages)} document-like HTML pages.\\n\")\n",
    "\n",
    "    for i, (url, title) in enumerate(pages):\n",
    "        extract_and_save_text(url, title, i)\n",
    "\n",
    "if __name__ == \"__main__\":\n",
    "    main()\n"
   ]
  },
  {
   "cell_type": "code",
   "execution_count": null,
   "id": "ebe313d4",
   "metadata": {},
   "outputs": [],
   "source": []
  }
 ],
 "metadata": {
  "kernelspec": {
   "display_name": "py310",
   "language": "python",
   "name": "python3"
  },
  "language_info": {
   "codemirror_mode": {
    "name": "ipython",
    "version": 3
   },
   "file_extension": ".py",
   "mimetype": "text/x-python",
   "name": "python",
   "nbconvert_exporter": "python",
   "pygments_lexer": "ipython3",
   "version": "3.10.18"
  }
 },
 "nbformat": 4,
 "nbformat_minor": 5
}
