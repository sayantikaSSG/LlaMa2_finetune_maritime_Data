{
 "cells": [
  {
   "cell_type": "code",
   "execution_count": 1,
   "id": "38f0ca44",
   "metadata": {},
   "outputs": [
    {
     "name": "stdout",
     "output_type": "stream",
     "text": [
      "📄 Loaded 1 documents.\n",
      "✅ Saved JSONL dataset: data\\emsa_dataset.jsonl (1 samples)\n"
     ]
    }
   ],
   "source": [
    "# 🚢 03_dataset_formatting.ipynb\n",
    "\n",
    "import os\n",
    "import json\n",
    "from pathlib import Path\n",
    "\n",
    "# 📂 Input & Output Paths\n",
    "CLEANED_DIR = Path(\"data/emsa_cleaned\")\n",
    "OUTPUT_FILE = Path(\"data/emsa_dataset.jsonl\")\n",
    "\n",
    "# ⚙️ Config\n",
    "SYSTEM_PROMPT = (\n",
    "    \"You are a maritime compliance assistant. \"\n",
    "    \"Answer questions based on maritime safety, regulatory, and operational documents. \"\n",
    "    \"Use precise and factual tone.\"\n",
    ")\n",
    "\n",
    "def read_cleaned_files(directory):\n",
    "    \"\"\"\n",
    "    Load all cleaned text files and return as list of strings.\n",
    "    \"\"\"\n",
    "    files = sorted(directory.glob(\"*.txt\"))\n",
    "    docs = []\n",
    "\n",
    "    for f in files:\n",
    "        try:\n",
    "            text = f.read_text(encoding='utf-8').strip()\n",
    "            if len(text) < 100:\n",
    "                continue  # skip tiny fragments\n",
    "            docs.append({\n",
    "                \"filename\": f.name,\n",
    "                \"text\": text\n",
    "            })\n",
    "        except Exception as e:\n",
    "            print(f\"⚠️ Skipping {f.name}: {e}\")\n",
    "\n",
    "    return docs\n",
    "\n",
    "\n",
    "def convert_to_chat_format(text, filename):\n",
    "    \"\"\"\n",
    "    Wrap each document as a prompt-response chat pair (instruction-tuning style).\n",
    "    \"\"\"\n",
    "    return {\n",
    "        \"messages\": [\n",
    "            {\"role\": \"system\", \"content\": SYSTEM_PROMPT},\n",
    "            {\"role\": \"user\", \"content\": f\"Summarize the key points of the following maritime document:\\n\\n{text[:2000]}\"},\n",
    "            {\"role\": \"assistant\", \"content\": f\"This is a regulatory excerpt from file '{filename}'. It includes technical maritime details. [PLACEHOLDER RESPONSE]\"}\n",
    "        ]\n",
    "    }\n",
    "\n",
    "# 📥 Load cleaned docs\n",
    "documents = read_cleaned_files(CLEANED_DIR)\n",
    "print(f\"📄 Loaded {len(documents)} documents.\")\n",
    "\n",
    "# 💬 Format to chat-style dataset\n",
    "chat_data = [convert_to_chat_format(d[\"text\"], d[\"filename\"]) for d in documents]\n",
    "\n",
    "# 💾 Save to JSONL\n",
    "with open(OUTPUT_FILE, \"w\", encoding=\"utf-8\") as f:\n",
    "    for item in chat_data:\n",
    "        json.dump(item, f, ensure_ascii=False)\n",
    "        f.write(\"\\n\")\n",
    "\n",
    "print(f\"✅ Saved JSONL dataset: {OUTPUT_FILE} ({len(chat_data)} samples)\")\n"
   ]
  }
 ],
 "metadata": {
  "kernelspec": {
   "display_name": "py310",
   "language": "python",
   "name": "python3"
  },
  "language_info": {
   "codemirror_mode": {
    "name": "ipython",
    "version": 3
   },
   "file_extension": ".py",
   "mimetype": "text/x-python",
   "name": "python",
   "nbconvert_exporter": "python",
   "pygments_lexer": "ipython3",
   "version": "3.10.18"
  }
 },
 "nbformat": 4,
 "nbformat_minor": 5
}
